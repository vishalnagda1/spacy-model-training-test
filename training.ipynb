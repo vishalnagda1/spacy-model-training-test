{
 "cells": [
  {
   "cell_type": "code",
   "execution_count": 2,
   "metadata": {},
   "outputs": [],
   "source": [
    "import spacy"
   ]
  },
  {
   "cell_type": "code",
   "execution_count": null,
   "metadata": {},
   "outputs": [],
   "source": [
    "!python -m spacy download en_core_web_lg"
   ]
  },
  {
   "cell_type": "code",
   "execution_count": 3,
   "metadata": {},
   "outputs": [],
   "source": [
    "nlp = spacy.load(\"en_core_web_lg\")"
   ]
  },
  {
   "cell_type": "code",
   "execution_count": 5,
   "metadata": {},
   "outputs": [],
   "source": [
    "text_doc = \"POSTPAID MONTHLY STATEMENT Mr. Vishal Nagda 112 Adarsh Nagar Udaipur Udaipur Udaipur, Rajasthan, 313001 Email Address: vishalnagda1@gmail.com Phone Number: 8769032876 Your Plan: Infinity Family Plan 399 Statement Date:06 Mar 2024 Statement Period:05 Feb 2024-04 Mar 2024 Your Plan: Infinity Family Plan 399 Statement Date:06 Mar 2024 Statement Period:05 Feb 2024-04 Mar 2024 Total Amount Payable: Due Date: ` 470.82 16 Mar 2024 Pay via Airtel Thanks App www.airtel.in/pay Scan & pay via any UPI Apps Powered by    Last bill amount Payment made Credits This Month's Charges Amount Payable Amount after due date(16Mar) ` 470.82 - ` 470.82 - ` 0.00 + ` 470.82 = ` 470.82 ` 588.82   This Month's Charges Summary Services Plan/Pack Charges Other Charges Total Mobile 8769032876 ` 399.0 ` 0.0 ` 399.00 Taxes (GST) ` 71.82 ` 0.0 ` 71.82 This month's charges ` 470.82 Last bill amount - - ` 470.82 Payment made1 - - - ` 470.82 Total (Incl. Taxes) ` 470.82 Total : Four Hundred Seventy Rupees and Eighty Two Paise Only Bills & Payments Summary Month Previous Dues (A) Payments (B) Credits (C) This month's charges (D) Amount Payable (A+B+C+D) March'24 470.82 -470.82 0.00 470.82 470.82 February'24 476.72 -476.72 0.00 470.82 470.82 January'24 0.00 0.00 0.00 476.72 476.72 Page 1 of 4 Page 1 of 4 POSTPAID MONTHLY STATEMENT Mr. Vishal Nagda 112 Adarsh Nagar Udaipur Udaipur Udaipur 313001 Rajasthan Email Address: vishalnagda1@gmail.com Phone Number: 8769032876 Your Plan: Infinity Family Plan 399 Number of Connections: Statement Date:06-MAR-2024 Statement Period:05/02/24 - 04/03/24 Statement Number: Amount Payable: ` 470.82 Due Date: 16-MAR-2024 This is only a summary statement. Input tax credit will not be available on the basis of this document. Payment Details1 Description Date Amount Paid Payment via Third Party BBPS (Digital-APBL) 08 Feb 2024 -470.82 Total ` -470.82 Page 2 of 4 Page 2 of 4 MOBILE SERVICES Original Copy for Recipient provided by Bharti Hexacom Limited- Tax Invoice 1-5167480793681 Billing Address Mr. Vishal Nagda 112 Adarsh Nagar Udaipur Udaipur Udaipur 313001 Rajasthan Email: vishalnagda1@gmail.com PhoneNo: 8769032876 BM2408I004331100 1-5167480793681 Ship To State Code : 08 Place of Supply : Rajasthan Account Account No 1-5167480793681 Bill Period 05 Feb 2024-04 Mar 2024 Bill NO BM2408I004331100 Adjustment 0.00 Bill Date 06 Mar 2024 Due date 16 Mar 2024 Credit limit 2500 Security deposit 0.0 This Month's Charges Charges (` ) Rental Charges 399.00 Taxes 71.82 Total Amount ` 470.82 Total:Four Hundred Seventy Rupees and Eighty Two Paise Only Detailed breakup of these charges can be found on next page Send payment to 1-5167480793681.POST@mairtel Scan & pay via any UPI Apps Powered by For Bharti Hexacom Limited Vasim Unissa S, Head - Experience Operations (VP) Page 3 of 4 Page 3 of 4 YOUR CHARGES IN DETAIL Relationship number Airtel mobile number 1-5167480793681 8769032876     Payment Modes - Pay online using debit/credit card, netbanking on My Airtel App, www.airtel.in, eWallets, UPI, visit an Airtel Store to pay using cash/cheque/credit/debit cards or activate Auto pay options from bank account (NACH) or Credit card account (SI)  Contact Information - For Queries: Call 121(tollfree) | Complaints: Call 198(tollfree) | Email: 121@airtel.com | NDNC Registration: Call 1909 (Activation time: 7days) | Complaint / SR Status: www.airtel.in/airtelpresence . Appellate Desk: Mr. Khushwinder Singh;9958444865;appellate.raj@in.airtel.com ;Bharti Hexacom Limited, K-21, Sunny House, Malviya Marg, C-Scheme, Jaipur-302001, Rajasthan Call 1930 for cyber-crime fraud reporting. Charges - Cheque / SI / ECS Decline: Rs. 200 | Late fee (Bill value >Rs. 300 upto 5000: Rs. 100, >Rs. 5000: 750 or 2% whichever is higher, Max Late fee Rs. 750) | No charge is levied for any service without your explicit consent Address change - Visit the nearest Airtel Store with new address proof.For store details, visit www.airtel.in/store Other Information - Tariff Plan: No increase in any line item (except ISD) for first 6months effective enrolment date. T&C apply | No fee is charged for migrating to any plan | Disconnection: For permanent disconnection, security deposit will be refunded within 60days. Else, interest will be paid @10%p.a. | Call pulses will be rounded off | Billing disagreements should be reported within 2months of bill receipt. Post this period no claim shall be entertained. | The credit limit is not applicable on usage done in international roaming. | As per the Government directive, effective 1-July-17, existing service tax of 15% has been replaced with 18% GST. |Whether tax is payable on Reverse Charge Basis - \\\"NO\\\". Registered Office: Bharti crescent, 1, nelson mandela road, vasant kunj, phase - II, new delhi - 110070. Tel: +91-11-4666 6100 Fax: +91-11-4166 6137, e-mail: 121@in.airtel.com, website: www.airtel.in Corporate Identity Number: U74899DL1995PLC067527 Bharti Hexacom Limited, K-21, Sunny House, Malviya Marg, C Scheme, Jaipur, Rajasthan- 302001 State Code: 08 GST registration no.: 08AAACH1766P1Z5 under Category TELECOMMUNICATION SERVICE PAN: AAACH1766P HSN: 998599 Other support services 998433 On-line video content 996812 Courier Services 997317 Leasing or rental services concerning telecommunications equipment with or without operator 998413 Mobile Telecommunication Service 9983 Support services 998716 Maintenance and repair services of telecommunication equipment and apparatus 999799 Other Services n.e.c   Monthly rentals Total(`) Description From date To dateRental Amount Plan Name infinity plan 399 05/02/2024 04/03/2024399.00 399.00 399.00 Tax Details Total(`) CGST SGST/UTGST HSN Taxable Value Rate Amount Rate Amount Total Tax 998413 399.00 9% 35.91 9% 35.91 71.82 71.82 This month's charges 470.82 Payment Details Description Date Total Total(`) Payment via Third Party BBPS (Digital-APBL) 08-Feb-2024 -470.82 -470.82  Tariff Details SMS rates Local(`) National(`) local/national 0.1/msg 0.1/msg national roaming 0.25/msg 0.38/msg international 5/msg 5/msg Call rates Local(`) STD(`) to airtel mobile 00/min 00/min to other mobile 00/min 00/min to landline 00/min 00/min to airtel cug 00/min 00/min video call 00/min 00/min For Roaming, ISD and other plans/tariff, visit www.airtel.in  Data conversion : 1MB =1,024KB ; 1GB=1,024MB/1,048,576KB Page 4 of 4 Page 4 of 4 page_0 page_1 page_2 page_3\""
   ]
  },
  {
   "cell_type": "code",
   "execution_count": null,
   "metadata": {},
   "outputs": [],
   "source": [
    "doc = nlp(text_doc)\n",
    "print(doc)"
   ]
  },
  {
   "cell_type": "code",
   "execution_count": null,
   "metadata": {},
   "outputs": [],
   "source": [
    "from spacy import displacy\n",
    "displacy.render(doc, style=\"ent\", jupyter=True)"
   ]
  },
  {
   "cell_type": "code",
   "execution_count": null,
   "metadata": {},
   "outputs": [],
   "source": [
    "import json\n",
    "\n",
    "with open('./test_data.json', 'r') as f:\n",
    "    data = json.load(f)\n",
    "\n",
    "training_data = []\n",
    "for tds in data['training_data_set']:\n",
    "    temp_dict = {}\n",
    "    temp_dict['text'] = tds['content']\n",
    "    temp_dict['entities'] = []\n",
    "    for annotation in tds['annotations']:\n",
    "        start = annotation['start']\n",
    "        end = annotation['end'] + 1\n",
    "        label = annotation['type'].upper()\n",
    "        temp_dict['entities'].append((start, end, label))\n",
    "    training_data.append(temp_dict)\n",
    "print(training_data[0])"
   ]
  }
 ],
 "metadata": {
  "kernelspec": {
   "display_name": "spacy-test-9B3BYHPn",
   "language": "python",
   "name": "python3"
  },
  "language_info": {
   "codemirror_mode": {
    "name": "ipython",
    "version": 3
   },
   "file_extension": ".py",
   "mimetype": "text/x-python",
   "name": "python",
   "nbconvert_exporter": "python",
   "pygments_lexer": "ipython3",
   "version": "3.10.12"
  }
 },
 "nbformat": 4,
 "nbformat_minor": 2
}
